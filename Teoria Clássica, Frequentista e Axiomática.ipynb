{
 "cells": [
  {
   "cell_type": "code",
   "execution_count": 2,
   "metadata": {},
   "outputs": [],
   "source": [
    "import pandas as pd\n",
    "from scipy.stats import norm"
   ]
  },
  {
   "cell_type": "code",
   "execution_count": 10,
   "metadata": {},
   "outputs": [],
   "source": [
    "# Carregando o dataset\n",
    "data = {\n",
    "    'Idade': [22, 25, 25, 26, 27, 27, 28, 28, 29, 29, 30, 30, 31, 31, 32, 33, 33, 34, 35, 35, 35, 36, 36, 37, 38, 39, 40, 40, 41, 42],\n",
    "    'Salário': [2500, 3000, 2900, 3000, 3500, 3100, 4500, 3400, 3700, 3600, 4000, 4300, 4200, 4500, 4400, 4900, 4800, 4600, 5500, 6000, 5300, 5200, 5400, 5500, 5700, 5900, 5800, 6000, 6200, 6500],\n",
    "    'Gênero': ['M', 'M', 'M', 'M', 'M', 'F', 'M', 'M', 'F', 'M', 'F', 'F', 'F', 'F', 'F', 'M', 'M', 'F', 'F', 'M', 'M', 'M', 'M', 'M', 'F', 'F', 'F', 'F', 'F', 'F'],\n",
    "    'Comprou': ['Sim', 'Sim', 'Sim', 'Sim', 'Sim', 'Sim', 'Não', 'Sim', 'Sim', 'Sim', 'Não', 'Sim', 'Sim', 'Não', 'Sim', 'Não', 'Não', 'Não', 'Sim', 'Não', 'Não', 'Sim', 'Sim', 'Não', 'Sim', 'Sim', 'Sim', 'Sim', 'Sim', 'Sim']\n",
    "}\n",
    "\n",
    "df = pd.DataFrame(data)\n",
    "\n",
    "df['Salário'] = df['Salário'].astype(float)"
   ]
  },
  {
   "cell_type": "markdown",
   "metadata": {},
   "source": [
    "#### Teoria Clássica\n",
    "Frequentemente associada à estatística e à probabilidade, é baseada na ideia de que todos os eventos são igualmente prováveis."
   ]
  },
  {
   "cell_type": "code",
   "execution_count": 56,
   "metadata": {},
   "outputs": [],
   "source": [
    "#Função para retornar a probabilidade e compra\n",
    "def probabilidade_classica(idade):\n",
    "    # Contar as compras para a idade especificada\n",
    "    compras_idade = df.loc[df['Idade'] == idade, 'Comprou'].value_counts()\n",
    "    \n",
    "    # Verifica se há registros para a idade\n",
    "    if not compras_idade.empty:\n",
    "        total_compras_idade = compras_idade.sum()\n",
    "        probabilidade_compra = compras_idade.get('Sim', 0) / total_compras_idade\n",
    "        return probabilidade_compra*100\n",
    "    else:\n",
    "        return None  # Sem registros para essa idade"
   ]
  },
  {
   "cell_type": "code",
   "execution_count": 57,
   "metadata": {},
   "outputs": [
    {
     "name": "stdout",
     "output_type": "stream",
     "text": [
      "Teoria Clássica: A probabilidade de um indivíduo de 35 anos comprar é 33.33 %\n"
     ]
    }
   ],
   "source": [
    "idade = 35\n",
    "probabilidade = probabilidade_classica(idade)\n",
    "\n",
    "if probabilidade is not None:\n",
    "    print(f\"Teoria Clássica: A probabilidade de um indivíduo de {idade} anos comprar é {probabilidade:.2f} %\")\n",
    "else:\n",
    "    print(f\"Não há registros para a idade {idade}.\")"
   ]
  }
 ],
 "metadata": {
  "kernelspec": {
   "display_name": "base",
   "language": "python",
   "name": "python3"
  },
  "language_info": {
   "codemirror_mode": {
    "name": "ipython",
    "version": 3
   },
   "file_extension": ".py",
   "mimetype": "text/x-python",
   "name": "python",
   "nbconvert_exporter": "python",
   "pygments_lexer": "ipython3",
   "version": "3.9.18"
  }
 },
 "nbformat": 4,
 "nbformat_minor": 2
}
